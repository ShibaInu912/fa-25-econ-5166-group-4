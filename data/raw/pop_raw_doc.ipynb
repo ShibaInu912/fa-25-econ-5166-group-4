{
 "cells": [
  {
   "cell_type": "markdown",
   "id": "cbd6343e",
   "metadata": {},
   "source": [
    "# Data Description\n",
    "- Background: 本資料呈現各縣市各月份的人口數量\n",
    "- date received: 2025-10-31\n",
    "- Path to data file: `/fa-25-econ-5166-group-4/data/raw/`\n",
    "- Unit of observation: city-month，每一筆資料是「每個縣市在各個月份的人口數」\n",
    "- Sample period: 2002-2024\n",
    "- Known issues:\n",
    "    - 因應2010年臺中、臺南、高雄縣市合併，以及2013年桃園縣市合併，此資料已經將該時間點以前的資料合併成一個縣市\n",
    "- Definition for each variable: \n",
    "    - `date`：識別用日期（每個月的第一天）\n",
    "    - `year`：年份\n",
    "    - `month`：月份\n",
    "    - `city`：城市名稱\n",
    "    - `pop`：人口數\n"
   ]
  },
  {
   "cell_type": "code",
   "execution_count": 1,
   "id": "ba40a8bc-5b61-4d96-847e-757405d3c284",
   "metadata": {},
   "outputs": [],
   "source": [
    "import pandas as pd"
   ]
  },
  {
   "cell_type": "markdown",
   "id": "da67183c-e756-47b8-8cd9-c8d28c51ce83",
   "metadata": {},
   "source": [
    "## Change for Your Own Data"
   ]
  },
  {
   "cell_type": "code",
   "execution_count": 2,
   "id": "b04d31db-b69d-466e-9768-319361f08ed6",
   "metadata": {},
   "outputs": [],
   "source": [
    "input_data_file = \"/Users/windkuo1017/Desktop/NTU_local/fa-25-econ-5166-group-4/data/raw/03-population.csv\""
   ]
  },
  {
   "cell_type": "markdown",
   "id": "e79dc1ad-05be-42c0-93f3-fab99a8acdff",
   "metadata": {},
   "source": [
    "## Summary"
   ]
  },
  {
   "cell_type": "code",
   "execution_count": 3,
   "id": "3fdc0d5f-ed39-4727-aa84-ee4e22759984",
   "metadata": {},
   "outputs": [],
   "source": [
    "df = pd.read_csv(input_data_file)"
   ]
  },
  {
   "cell_type": "markdown",
   "id": "c2c7bba9-6d20-4d27-82c1-60f0f54ab4d4",
   "metadata": {},
   "source": [
    "### Sample"
   ]
  },
  {
   "cell_type": "code",
   "execution_count": 5,
   "id": "efe18b1d-dc13-44bc-93d0-dad9e3d9c1df",
   "metadata": {},
   "outputs": [
    {
     "data": {
      "text/html": [
       "<div>\n",
       "<style scoped>\n",
       "    .dataframe tbody tr th:only-of-type {\n",
       "        vertical-align: middle;\n",
       "    }\n",
       "\n",
       "    .dataframe tbody tr th {\n",
       "        vertical-align: top;\n",
       "    }\n",
       "\n",
       "    .dataframe thead th {\n",
       "        text-align: right;\n",
       "    }\n",
       "</style>\n",
       "<table border=\"1\" class=\"dataframe\">\n",
       "  <thead>\n",
       "    <tr style=\"text-align: right;\">\n",
       "      <th></th>\n",
       "      <th>date</th>\n",
       "      <th>year</th>\n",
       "      <th>month</th>\n",
       "      <th>city</th>\n",
       "      <th>pop</th>\n",
       "    </tr>\n",
       "  </thead>\n",
       "  <tbody>\n",
       "    <tr>\n",
       "      <th>0</th>\n",
       "      <td>2002/1/1</td>\n",
       "      <td>2002</td>\n",
       "      <td>1</td>\n",
       "      <td>南投縣</td>\n",
       "      <td>542007</td>\n",
       "    </tr>\n",
       "    <tr>\n",
       "      <th>1</th>\n",
       "      <td>2002/1/1</td>\n",
       "      <td>2002</td>\n",
       "      <td>1</td>\n",
       "      <td>嘉義市</td>\n",
       "      <td>267711</td>\n",
       "    </tr>\n",
       "    <tr>\n",
       "      <th>2</th>\n",
       "      <td>2002/1/1</td>\n",
       "      <td>2002</td>\n",
       "      <td>1</td>\n",
       "      <td>嘉義縣</td>\n",
       "      <td>563519</td>\n",
       "    </tr>\n",
       "    <tr>\n",
       "      <th>3</th>\n",
       "      <td>2002/1/1</td>\n",
       "      <td>2002</td>\n",
       "      <td>1</td>\n",
       "      <td>基隆市</td>\n",
       "      <td>390906</td>\n",
       "    </tr>\n",
       "    <tr>\n",
       "      <th>4</th>\n",
       "      <td>2002/1/1</td>\n",
       "      <td>2002</td>\n",
       "      <td>1</td>\n",
       "      <td>宜蘭縣</td>\n",
       "      <td>465966</td>\n",
       "    </tr>\n",
       "    <tr>\n",
       "      <th>5</th>\n",
       "      <td>2002/1/1</td>\n",
       "      <td>2002</td>\n",
       "      <td>1</td>\n",
       "      <td>屏東縣</td>\n",
       "      <td>909602</td>\n",
       "    </tr>\n",
       "    <tr>\n",
       "      <th>6</th>\n",
       "      <td>2002/1/1</td>\n",
       "      <td>2002</td>\n",
       "      <td>1</td>\n",
       "      <td>彰化縣</td>\n",
       "      <td>1314591</td>\n",
       "    </tr>\n",
       "    <tr>\n",
       "      <th>7</th>\n",
       "      <td>2002/1/1</td>\n",
       "      <td>2002</td>\n",
       "      <td>1</td>\n",
       "      <td>新北市</td>\n",
       "      <td>3612495</td>\n",
       "    </tr>\n",
       "    <tr>\n",
       "      <th>8</th>\n",
       "      <td>2002/1/1</td>\n",
       "      <td>2002</td>\n",
       "      <td>1</td>\n",
       "      <td>新竹市</td>\n",
       "      <td>373691</td>\n",
       "    </tr>\n",
       "    <tr>\n",
       "      <th>9</th>\n",
       "      <td>2002/1/1</td>\n",
       "      <td>2002</td>\n",
       "      <td>1</td>\n",
       "      <td>新竹縣</td>\n",
       "      <td>446977</td>\n",
       "    </tr>\n",
       "  </tbody>\n",
       "</table>\n",
       "</div>"
      ],
      "text/plain": [
       "       date  year  month city      pop\n",
       "0  2002/1/1  2002      1  南投縣   542007\n",
       "1  2002/1/1  2002      1  嘉義市   267711\n",
       "2  2002/1/1  2002      1  嘉義縣   563519\n",
       "3  2002/1/1  2002      1  基隆市   390906\n",
       "4  2002/1/1  2002      1  宜蘭縣   465966\n",
       "5  2002/1/1  2002      1  屏東縣   909602\n",
       "6  2002/1/1  2002      1  彰化縣  1314591\n",
       "7  2002/1/1  2002      1  新北市  3612495\n",
       "8  2002/1/1  2002      1  新竹市   373691\n",
       "9  2002/1/1  2002      1  新竹縣   446977"
      ]
     },
     "execution_count": 5,
     "metadata": {},
     "output_type": "execute_result"
    }
   ],
   "source": [
    "df.head(10)"
   ]
  },
  {
   "cell_type": "markdown",
   "id": "dcb224e8-975c-45f6-9f93-037ca429c7a8",
   "metadata": {},
   "source": [
    "### Summary Stats"
   ]
  },
  {
   "cell_type": "code",
   "execution_count": 6,
   "id": "340d6776-59ae-446c-a926-84b5362b0f13",
   "metadata": {},
   "outputs": [
    {
     "data": {
      "text/html": [
       "<div>\n",
       "<style scoped>\n",
       "    .dataframe tbody tr th:only-of-type {\n",
       "        vertical-align: middle;\n",
       "    }\n",
       "\n",
       "    .dataframe tbody tr th {\n",
       "        vertical-align: top;\n",
       "    }\n",
       "\n",
       "    .dataframe thead th {\n",
       "        text-align: right;\n",
       "    }\n",
       "</style>\n",
       "<table border=\"1\" class=\"dataframe\">\n",
       "  <thead>\n",
       "    <tr style=\"text-align: right;\">\n",
       "      <th></th>\n",
       "      <th>year</th>\n",
       "      <th>month</th>\n",
       "      <th>pop</th>\n",
       "    </tr>\n",
       "  </thead>\n",
       "  <tbody>\n",
       "    <tr>\n",
       "      <th>count</th>\n",
       "      <td>6072.000000</td>\n",
       "      <td>6072.000000</td>\n",
       "      <td>6.072000e+03</td>\n",
       "    </tr>\n",
       "    <tr>\n",
       "      <th>mean</th>\n",
       "      <td>2013.000000</td>\n",
       "      <td>6.500000</td>\n",
       "      <td>1.053987e+06</td>\n",
       "    </tr>\n",
       "    <tr>\n",
       "      <th>std</th>\n",
       "      <td>6.633796</td>\n",
       "      <td>3.452337</td>\n",
       "      <td>1.068523e+06</td>\n",
       "    </tr>\n",
       "    <tr>\n",
       "      <th>min</th>\n",
       "      <td>2002.000000</td>\n",
       "      <td>1.000000</td>\n",
       "      <td>8.712000e+03</td>\n",
       "    </tr>\n",
       "    <tr>\n",
       "      <th>25%</th>\n",
       "      <td>2007.000000</td>\n",
       "      <td>3.750000</td>\n",
       "      <td>3.344265e+05</td>\n",
       "    </tr>\n",
       "    <tr>\n",
       "      <th>50%</th>\n",
       "      <td>2013.000000</td>\n",
       "      <td>6.500000</td>\n",
       "      <td>5.353625e+05</td>\n",
       "    </tr>\n",
       "    <tr>\n",
       "      <th>75%</th>\n",
       "      <td>2019.000000</td>\n",
       "      <td>9.250000</td>\n",
       "      <td>1.865840e+06</td>\n",
       "    </tr>\n",
       "    <tr>\n",
       "      <th>max</th>\n",
       "      <td>2024.000000</td>\n",
       "      <td>12.000000</td>\n",
       "      <td>4.047112e+06</td>\n",
       "    </tr>\n",
       "  </tbody>\n",
       "</table>\n",
       "</div>"
      ],
      "text/plain": [
       "              year        month           pop\n",
       "count  6072.000000  6072.000000  6.072000e+03\n",
       "mean   2013.000000     6.500000  1.053987e+06\n",
       "std       6.633796     3.452337  1.068523e+06\n",
       "min    2002.000000     1.000000  8.712000e+03\n",
       "25%    2007.000000     3.750000  3.344265e+05\n",
       "50%    2013.000000     6.500000  5.353625e+05\n",
       "75%    2019.000000     9.250000  1.865840e+06\n",
       "max    2024.000000    12.000000  4.047112e+06"
      ]
     },
     "execution_count": 6,
     "metadata": {},
     "output_type": "execute_result"
    }
   ],
   "source": [
    "df.describe()"
   ]
  }
 ],
 "metadata": {
  "kernelspec": {
   "display_name": "venv",
   "language": "python",
   "name": "python3"
  },
  "language_info": {
   "codemirror_mode": {
    "name": "ipython",
    "version": 3
   },
   "file_extension": ".py",
   "mimetype": "text/x-python",
   "name": "python",
   "nbconvert_exporter": "python",
   "pygments_lexer": "ipython3",
   "version": "3.13.7"
  }
 },
 "nbformat": 4,
 "nbformat_minor": 5
}
